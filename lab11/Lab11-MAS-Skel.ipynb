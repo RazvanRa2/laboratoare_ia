{
 "cells": [
  {
   "cell_type": "markdown",
   "metadata": {},
   "source": [
    "# Sisteme Multi-Agent: Dilema prizonierului\n",
    " - Andrei Olaru\n",
    " - Tudor Berariu\n",
    " \n"
   ]
  },
  {
   "cell_type": "markdown",
   "metadata": {},
   "source": [
    "#### Scopul laboratorului\n",
    "\n",
    "Scopul acestui laborator este de a vă familiariza cu noțiunea de [agent software](https://en.wikipedia.org/wiki/Software_agent). O parte din preocupările din domeniul sistemelor multi-agent se axează pe probleme din teoria jocurilor și modul cum agenții pot juca jocuri teoretice cât mai bine.\n",
    "\n",
    "#### Dilema prizonierului\n",
    "\n",
    "Dilema prizonierului (vezi și [aici](https://en.wikipedia.org/wiki/Prisoner's_dilemma)) este un joc de doi jucători în care fiecare jucător are la dispoziție două acțiuni: cooperarea cu celălalt jucător sau trădarea acestuia. În funcție de acțiunile alese, fiecare dintre cei doi jucători primește o recompensă. Recompensa agregată maximă este când ambii jucători cooperează, dar atracția este mai mare către trădare (vezi [matricea de joc](https://en.wikipedia.org/wiki/Prisoner%27s_dilemma#Generalized_form)).\n",
    "\n",
    "#### Dilema prizonierului, iterată\n",
    "\n",
    "Dacă pentru un singur joc trădarea este opțiunea evidentă (cf. Echilibrului Nash), strategiile pot deveni mai complexe atunci când se joacă mai multe jocuri între aceiași doi jucători (poate exista ideea unei cooperări, pentru a crește scorul ambilor agenți).\n",
    "\n",
    "#### Cerință\n",
    "\n",
    "Se cere implementarea a 4 strategii 'standard' (vezi document pdf) pentru varianta iterată a jocului, împreună cu o **strategie proprie** care să se comporte acceptabil împotriva celorlalte, într-un turneu. Ceea ce ne interesează este **scorul** total obținut, mai ales raportat la numărul de jocuri (score/games)."
   ]
  },
  {
   "cell_type": "code",
   "execution_count": 1,
   "metadata": {
    "collapsed": true
   },
   "outputs": [],
   "source": [
    "from random import choice, randint\n",
    "\n",
    "D = 'Defect'\n",
    "C = 'Cooperate'\n",
    "\n",
    "rewards = {(C, C): (3, 3), (C, D): (0, 5), (D, C): (5, 0), (D, D): (2, 2)}"
   ]
  },
  {
   "cell_type": "code",
   "execution_count": 2,
   "metadata": {
    "collapsed": false
   },
   "outputs": [],
   "source": [
    "# O strategie de joc este caracterizată de o funcție care întoarce, la fiecare apel, acțiunea aleasă de strategie.\n",
    "# Parametrul primit de funcție este o listă de tupluri care conține acțiunile jucate anterior în cursul aceluiași \n",
    "# joc iterat.\n",
    "# Fiecare tuplu din listă corespunde unui joc individual de dilema prizonierului și conține pe prima poziție \n",
    "# acțiunea aleasă de acest agent și pe a doua acțiunea jucată de oponent.\n",
    "\n",
    "def AllD(_):\n",
    "    return D\n",
    "\n",
    "def Random(_):\n",
    "    # TODO\n",
    "    pass\n",
    "\n",
    "def TFT(information):\n",
    "    # TODO\n",
    "    pass\n",
    "\n",
    "def Joss(information):\n",
    "    # TODO\n",
    "    pass\n",
    "    \n",
    "def Tester(information):\n",
    "    # TODO\n",
    "    pass\n",
    "\n",
    "# TODO: o nouă strategie"
   ]
  },
  {
   "cell_type": "code",
   "execution_count": 3,
   "metadata": {
    "collapsed": false
   },
   "outputs": [],
   "source": [
    "# TODO de activat strategiile aici\n",
    "availableStrategies = [\n",
    "    ('All-D', AllD),\n",
    "#     ('Random', Random),\n",
    "#     ('Tit-For-Tat', TFT), \n",
    "#     ('Joss', Joss),\n",
    "#     ('Tester', Tester),\n",
    "]"
   ]
  },
  {
   "cell_type": "code",
   "execution_count": 4,
   "metadata": {
    "collapsed": false
   },
   "outputs": [
    {
     "name": "stdout",
     "output_type": "stream",
     "text": [
      "\n",
      "\n",
      "================ total games: 500\n",
      "\n",
      " strategy All-D\n",
      "\t played against All-D (1000) \n",
      "\t played 1000 times and won 0 times with a global score of 200000\n",
      "\t score/games: 200.0\t wins/games: 0.0\t score/wins: --\n",
      "\n",
      "\n",
      "================ total games: 5000\n",
      "\n",
      " strategy All-D\n",
      "\t played against All-D (11000) \n",
      "\t played 11000 times and won 0 times with a global score of 2200000\n",
      "\t score/games: 200.0\t wins/games: 0.0\t score/wins: --\n"
     ]
    }
   ],
   "source": [
    "strategies = []\n",
    "for (name, proc) in availableStrategies:\n",
    "    strategies.append({'name': name, 'procedure': proc, 'wins': 0, 'score': 0, 'games': 0, 'plays': {}})\n",
    "\n",
    "# joacă un joc între A și B, întoarce recompensele asociate\n",
    "def play_game(players, verbose = False):\n",
    "    choices = [p['strategy']['procedure'](p['information']) for p in players]\n",
    "    for i in range(2):\n",
    "        players[i]['information'].append((choices[i], choices[1 - i]))\n",
    "    if verbose: print(players[0]['strategy']['name']+\" vs \"+players[1]['strategy']['name']+\" choices: \"+str(choices)+\" rewards: \"+str(rewards[tuple(choices)]))\n",
    "    return rewards[tuple(choices)]\n",
    "    \n",
    "# joacă `iterations` jocuri între A și B, întorcând scorul asociat întregului joc iterat\n",
    "def play_iterated_pd(players, n_iterations, verbose = False):\n",
    "    score = (0, 0)\n",
    "    for i in range(n_iterations):\n",
    "        rewardsAB = play_game(players, verbose)\n",
    "        score = tuple([score[pi] + rewardsAB[pi] for pi in range(2)])\n",
    "    if verbose: print(\"== result: \"+str(score))\n",
    "    return score\n",
    "\n",
    "# joacă un turneu de n jocuri de câte n iterații, alegând aleator între strategiile date în `strategies`\n",
    "def tournament(n_games, n_iterations, strategies, verbose = False):\n",
    "    for game in range(n_games):\n",
    "        agents = []\n",
    "        strat = []\n",
    "        for i in range(2):\n",
    "            agents.append({'strategy': choice(strategies), 'information': []})\n",
    "            strat.append(agents[i]['strategy'])\n",
    "        for i in range(2):\n",
    "            for j in range(2):\n",
    "                if i != j:\n",
    "                    if strat[j]['name'] not in strat[i]['plays']:\n",
    "                        strat[i]['plays'][strat[j]['name']] = 1\n",
    "                    else:\n",
    "                        strat[i]['plays'][strat[j]['name']] += 1\n",
    "        scores = play_iterated_pd(agents, n_iterations, verbose)\n",
    "        result = (0, 0)\n",
    "        if scores[0] > scores[1]:\n",
    "            result = (1, 0)\n",
    "        if scores[0] < scores[1]:\n",
    "            result = (0, 1)\n",
    "        for i in range(2):\n",
    "            strat[i]['wins'] += result[i]\n",
    "            strat[i]['score'] += scores[i]\n",
    "            strat[i]['games'] += 1\n",
    "    print('\\n\\n================ total games: ' + str(n_games))\n",
    "    for s in strategies:\n",
    "        print('\\n strategy ' + s['name'])\n",
    "        if s['games']:\n",
    "            plays = ' played against '\n",
    "            for s_op in strategies:\n",
    "                if s_op['name'] in s['plays']:\n",
    "                    plays += s_op['name'] + ' (' + str(s['plays'][s_op['name']]) + ') '\n",
    "            print('\\t' + plays)\n",
    "            print( \n",
    "              '\\t played '+str(s['games'])+' times and won '+str(s['wins'])+' times with a global score of '+str(s['score']) +\n",
    "                  '\\n\\t score/games: '+str(round(float(s['score'])/s['games'], 2))+ \n",
    "                  '\\t wins/games: '+str(round(float(s['wins'])/s['games'], 2))+\n",
    "                  '\\t score/wins: '+(str(round(float(s['score'])/s['wins'], 2)) if s['wins'] else \"--\"))\n",
    "        else:\n",
    "            print(\"\\t played no games.\")\n",
    "        \n",
    "        \n",
    "# tournament(50, 10, strategies, True) # test, with Verbose\n",
    "tournament(500, 100, strategies) # short\n",
    "tournament(5000, 100, strategies) # long"
   ]
  },
  {
   "cell_type": "code",
   "execution_count": null,
   "metadata": {
    "collapsed": true
   },
   "outputs": [],
   "source": []
  }
 ],
 "metadata": {
  "kernelspec": {
   "display_name": "Python 3",
   "language": "python",
   "name": "python3"
  },
  "language_info": {
   "codemirror_mode": {
    "name": "ipython",
    "version": 3
   },
   "file_extension": ".py",
   "mimetype": "text/x-python",
   "name": "python",
   "nbconvert_exporter": "python",
   "pygments_lexer": "ipython3",
   "version": "3.5.2+"
  }
 },
 "nbformat": 4,
 "nbformat_minor": 0
}
